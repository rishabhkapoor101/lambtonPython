{
 "cells": [
  {
   "cell_type": "markdown",
   "metadata": {},
   "source": [
    "Question 1"
   ]
  },
  {
   "cell_type": "code",
   "execution_count": null,
   "metadata": {},
   "outputs": [],
   "source": [
    "class Vehicle:\n",
    "\n",
    "  def __init__(self, name, speedMax, avg):\n",
    "    self.name_of_Vehicle = name\n",
    "    self.max_speed = speedMax\n",
    "    self.average_of_vehicle = avg"
   ]
  },
  {
   "cell_type": "markdown",
   "metadata": {},
   "source": [
    "Question 2"
   ]
  },
  {
   "cell_type": "code",
   "execution_count": null,
   "metadata": {},
   "outputs": [],
   "source": [
    "class Car(Vehicle):\n",
    "\n",
    "  def __init__(self, cap):\n",
    "    self.seating_capacity = cap\n",
    "\n",
    "  def seating_capicity(self, cap):\n",
    "    return(self.name_of_Vehicle, self.cap)"
   ]
  },
  {
   "cell_type": "markdown",
   "metadata": {},
   "source": [
    "Question 3"
   ]
  },
  {
   "cell_type": "markdown",
   "metadata": {},
   "source": [
    "When one class is a derivative of two or more classes."
   ]
  },
  {
   "cell_type": "code",
   "execution_count": null,
   "metadata": {},
   "outputs": [],
   "source": [
    "class Parent1:\n",
    "  def __init__(self):\n",
    "    pass\n",
    "\n",
    "class Parent2:\n",
    "  def __init__(self):\n",
    "    pass\n",
    "\n",
    "class Child(Parent1, Parent2):\n",
    "  def __init__(self):\n",
    "    pass"
   ]
  },
  {
   "cell_type": "markdown",
   "metadata": {},
   "source": [
    "Question 4"
   ]
  },
  {
   "cell_type": "code",
   "execution_count": null,
   "metadata": {},
   "outputs": [],
   "source": [
    "class Person:\n",
    "  def __init__(self, name, age, gender):\n",
    "    self.name = name\n",
    "    self.__age = age\n",
    "    self.gender = gender\n",
    "\n",
    "  def getAge(self):\n",
    "    return self.__age\n",
    "\n",
    "  def say_hello(self):\n",
    "    print(f\"Hello, with best compliments from {self.name}\")\n",
    "\n",
    "  def isAdult(self):\n",
    "\n",
    "    if self.age > 17:\n",
    "      return True\n",
    "    else:\n",
    "      return False"
   ]
  },
  {
   "cell_type": "code",
   "execution_count": null,
   "metadata": {},
   "outputs": [],
   "source": [
    "class Student(Person):\n",
    "  def __init__(self, id, course, att=0):\n",
    "\n",
    "    self.student_id = id\n",
    "    self.course = course\n",
    "    self.daysPresent = att\n",
    "  \n",
    "\n",
    "  def markAttendence(self):\n",
    "    self.daysPresent+=1"
   ]
  },
  {
   "cell_type": "code",
   "execution_count": null,
   "metadata": {},
   "outputs": [],
   "source": [
    "class Teacher(Person):\n",
    "  def __init__(self, id, sub):\n",
    "    self.teacher_id = id\n",
    "    self.subject = sub\n",
    "\n",
    "  def say_hello(self):\n",
    "    print(f\"HELLO FROM {self.name}\")"
   ]
  }
 ],
 "metadata": {
  "kernelspec": {
   "display_name": "Python 3",
   "language": "python",
   "name": "python3"
  },
  "language_info": {
   "name": "python",
   "version": "3.10.4"
  },
  "orig_nbformat": 4
 },
 "nbformat": 4,
 "nbformat_minor": 2
}
